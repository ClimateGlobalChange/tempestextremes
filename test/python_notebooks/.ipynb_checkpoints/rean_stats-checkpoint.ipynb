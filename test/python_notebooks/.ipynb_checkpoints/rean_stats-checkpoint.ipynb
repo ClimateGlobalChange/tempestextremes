{
 "cells": [
  {
   "cell_type": "code",
   "execution_count": 1,
   "metadata": {},
   "outputs": [],
   "source": [
    "#Load necessary modules\n",
    "import os\n",
    "#Some hacks to get around a Basemap issue\n",
    "os.environ[\"PYTHONWARNINGS\"]=\"ignore::yaml.YAMLLoadWarning\"\n",
    "import glob\n",
    "import seaborn as sns\n",
    "import numpy as np\n",
    "import xarray as xa\n",
    "import pandas as pd\n",
    "from datetime import datetime\n",
    "import matplotlib.pyplot as plt\n",
    "from matplotlib import cm\n",
    "from mpl_toolkits.basemap import Basemap\n",
    "import nc_time_axis\n",
    "import cftime\n",
    "import scipy\n",
    "import math\n",
    "from scipy.stats import pearsonr\n",
    "from scipy.stats import zscore\n",
    "from scipy.stats import mannwhitneyu\n",
    "from scipy.stats import kruskal\n",
    "from random import sample\n",
    "from sklearn.decomposition import PCA\n",
    "from ordered_set import OrderedSet\n",
    "from mpl_toolkits.axes_grid1 import make_axes_locatable\n",
    "dats_mod=[\"CFSR\",\"MERRA\",\"ERA\",\"JRA\"]\n",
    "#dats_mod2=[\"CMCC-CESM\",\"CMCC-CM\",\"CNRM-CM5\",\n",
    "#          \"CanESM2\",\"GFDL-CM3\",\"GFDL-ESM2M\",\n",
    "          #\"HadCM3\",\"HadGEM2-CC\",\"IPSL-CM5A\",\n",
    "#           \"IPSL-CM5A\",\n",
    "#          \"MIROC-ESM\",\"MIROC5\",\"MPI-ESM-MR\",\n",
    "#          \"MRI-CGCM3\",\"MRI-ESM1\",\"NorESM1-M\"]\n",
    "\n",
    "dats_mod2=[\"CMCC-CM\",\"MRI-CGCM3\",\"MRI-ESM1\",\n",
    "          \"MIROC5\",\"CNRM-CM5\",\"GFDL-ESM2M\",\"MPI-ESM-MR\",\n",
    "          \"NorESM1-M\",\"IPSL-CM5A\",\n",
    "          \"GFDL-CM3\",\"CanESM2\",\"MIROC-ESM\",\"CMCC-CESM\"]\n",
    "dats_all = dats_mod + dats_mod2\n",
    "\n",
    "dats_esm = [\"MRI-ESM1\",\"CNRM-CM5\",\"GFDL-ESM2M\",\n",
    "           \"MPI-ESM-MR\",\"NorESM1-M\",\"IPSL-CM5A\",\n",
    "           \"CanESM2\",\"MIROC-ESM\",\"CMCC-CESM\"]\n",
    "dats_aog = [\"CMCC-CM\",\"MRI-CGCM3\",\"MIROC5\",\"GFDL-CM3\"]\n",
    "\n",
    "\n",
    "base_dir=\"/global/cscratch1/sd/marielp\"\n",
    "base_dir2=\"/global/cscratch1/sd/marielp/CMIP6\""
   ]
  },
  {
   "cell_type": "code",
   "execution_count": 2,
   "metadata": {},
   "outputs": [],
   "source": [
    "#Function to find the mean/sd of each variable in the specified list and normalize the variables\n",
    "def find_mean_sd(vlist,allframe,reg_str,sstr):\n",
    "    dict_stats={'region':reg_str,'season':sstr}\n",
    "    for v in vlist:\n",
    "        dict_temp={}\n",
    "        dict_temp['mean'] = allframe[v].mean()\n",
    "        dict_temp['sd'] = allframe[v].std()\n",
    "        dict_stats[v] = dict_temp\n",
    "    return(dict_stats)\n",
    "\n",
    "#Now a function for reading in the stats\n",
    "def read_summ_stats(reg_str,sstr,dataset,vlist,modtype):\n",
    "    basedir=\"/global/cscratch1/sd/marielp\"\n",
    "    summ_frame=pd.DataFrame()\n",
    "    all_frame=pd.DataFrame()\n",
    "    for d in dataset:\n",
    "        fname_summ=\"{:}/{:}/STATS_SUMM/{:}_{:}_{:}_summtable.csv\".format(basedir,d,d,sstr,reg_str)\n",
    "        fname_tot=\"{:}/{:}/STATS_SUMM/{:}_{:}_{:}_indicestable.csv\".format(basedir,d,d,sstr,reg_str)\n",
    "\n",
    "        dcurr=sorted(glob.glob(\"{:}/{:}/BLOBS_NOREGIONAL/*DJF_blobs_noregional.nc\".format(base_dir,d)))[0]\n",
    "        d_mf = xa.open_dataset(dcurr)\n",
    "        \n",
    "        summ_sub=pd.read_csv(fname_summ)\n",
    "        summ_sub['region']=reg_str\n",
    "        summ_sub['season']=sstr\n",
    "        summ_sub['mean_area']=summ_sub['mean_area_km']/(10**6)\n",
    "        summ_sub['abs_centlat']=abs(summ_sub['mean_centlat'])\n",
    "        tot_sub=pd.read_csv(fname_tot)\n",
    "        \n",
    "        all_frame = all_frame.append(summ_sub)\n",
    "        \n",
    "        d_dict={}\n",
    "        d_dict['var']=d\n",
    "        d_dict['region']=reg_str\n",
    "        d_dict['season']=sstr\n",
    "        d_dict['latres']=d_mf['lat'].values[1]-d_mf['lat'].values[0]\n",
    "        d_dict['lonres']=d_mf['lon'].values[1]-d_mf['lon'].values[0]\n",
    "        d_dict['# Features']=len(summ_sub)\n",
    "        d_dict['Merged']=len(summ_sub[summ_sub['merged']=='YES'])\n",
    "        d_dict['Duration']=summ_sub['duration_days'].mean()\n",
    "        d_dict['Days/season']=len(list(set(tot_sub['time'])))/len(list(set(tot_sub['year'])))\n",
    "        d_dict['Lat']=summ_sub['mean_centlat'].mean()\n",
    "        d_dict['Size']=tot_sub['area_km'].mean()/(10**6)\n",
    "        d_dict['Speed']=summ_sub['zonal_speed_km'].mean()\n",
    "        d_dict['AI']=summ_sub['mean_AI'].mean()\n",
    "        d_dict['BI']=summ_sub['mean_BI'].mean()\n",
    "        summ_frame=summ_frame.append(d_dict,ignore_index=True)\n",
    "        \n",
    "    colnames_tab=d_dict.keys()\n",
    "    keys_list =list(colnames_tab)[3:]\n",
    "    summ_frame=summ_frame[colnames_tab]\n",
    "    mean_dict={}\n",
    "    mean_dict['var'] = 'Mean'\n",
    "    mean_dict['region'] = reg_str\n",
    "    mean_dict['season'] = sstr\n",
    "    for k in keys_list:\n",
    "        mean_dict[k]=summ_frame[k].mean()\n",
    "\n",
    "    summ_frame_sort=summ_frame.sort_values(by=['latres','lonres'])\n",
    "    summ_frame_sort = summ_frame_sort.append(mean_dict,ignore_index=True)\n",
    "    norms_dict = find_mean_sd(vlist,all_frame,reg_str,sstr)\n",
    "    summ_frame['model'] = modtype\n",
    "    all_frame['model'] = modtype\n",
    "    summ_frame_sort['model'] = modtype\n",
    "    \n",
    "    return({'SUMM':summ_frame, 'ALL':all_frame, 'SORT':summ_frame_sort,'MEAN_SD':norms_dict,'MODTYPE':modtype})"
   ]
  },
  {
   "cell_type": "code",
   "execution_count": 3,
   "metadata": {},
   "outputs": [],
   "source": [
    "summ_all = pd.DataFrame()\n",
    "all_all = pd.DataFrame()\n",
    "sort_all = pd.DataFrame()\n",
    "norm_vals = {}\n",
    "norm_mod_vals={}\n",
    "norm_all = pd.DataFrame()\n",
    "var_str=['duration_days',\n",
    " 'abs_centlat',\n",
    " 'mean_area',\n",
    " 'zonal_speed_km',\n",
    " 'mean_AI',\n",
    " 'mean_BI']\n",
    "\n",
    "for r in [\"NH\",\"SH\"]:\n",
    "    for s in [\"JJA\",\"DJF\"]:\n",
    "        #Read in the reanalysis data and model data\n",
    "        rean_temp = read_summ_stats(r,s,dats_mod,var_str,'rean')\n",
    "        model_temp = read_summ_stats(r,s,dats_mod2,var_str,'model')\n",
    "        summ_all = summ_all.append(rean_temp['SUMM'])\n",
    "        summ_all = summ_all.append(model_temp['SUMM'])\n",
    "        all_all = all_all.append(rean_temp['ALL'])\n",
    "        all_all = all_all.append(model_temp['ALL'])\n",
    "        sort_all = sort_all.append(rean_temp['SORT'])\n",
    "        sort_all = sort_all.append(model_temp['SORT'])\n",
    "        norm_vals['rean_{:}_{:}'.format(r,s)]=rean_temp['MEAN_SD']\n",
    "        norm_mod_vals['model_{:}_{:}'.format(r,s)]=model_temp['MEAN_SD']\n",
    "        #Normalize the data\n",
    "        norm_frame = pd.DataFrame()\n",
    "        norm_mframe = pd.DataFrame()\n",
    "        norm_frame['var'] = rean_temp['ALL']['var']\n",
    "        norm_mframe['var'] = model_temp['ALL']['var']\n",
    "        for v in var_str:\n",
    "            meanval = rean_temp['MEAN_SD'][v]['mean']\n",
    "            sdval = rean_temp['MEAN_SD'][v]['sd']\n",
    "            norm_frame[v] = (rean_temp['ALL'][v]-meanval)/sdval\n",
    "            norm_mframe[v] = (model_temp['ALL'][v]-meanval)/sdval\n",
    "        norm_frame['model'] = rean_temp['MODTYPE']\n",
    "        norm_frame['region'] = r\n",
    "        norm_frame['season'] = s\n",
    "        norm_mframe['model'] = model_temp['MODTYPE']\n",
    "        norm_mframe['region'] = r\n",
    "        norm_mframe['season'] = s\n",
    "        norm_all = norm_all.append(norm_frame)\n",
    "        norm_all = norm_all.append(norm_mframe)\n",
    "    \n"
   ]
  },
  {
   "cell_type": "code",
   "execution_count": 18,
   "metadata": {},
   "outputs": [],
   "source": [
    "#Blocking frequency\n",
    "avg_djf = xa.open_dataset('{:}/REAN_MODEL_MEANS_DJF.nc'.format(base_dir))\n",
    "avg_jja = xa.open_dataset('{:}/REAN_MODEL_MEANS_JJA.nc'.format(base_dir))\n"
   ]
  },
  {
   "cell_type": "code",
   "execution_count": 19,
   "metadata": {},
   "outputs": [],
   "source": [
    "#Z500 LTDM\n",
    "az_djf = xa.open_dataset('{:}/REAN_MODEL_MEAN_AZ500_DJF.nc'.format(base_dir))\n",
    "az_jja = xa.open_dataset('{:}/REAN_MODEL_MEAN_AZ500_JJA.nc'.format(base_dir))"
   ]
  },
  {
   "cell_type": "code",
   "execution_count": 20,
   "metadata": {},
   "outputs": [],
   "source": [
    "#Z500 field\n",
    "zg_djf = xa.open_dataset('{:}/REAN_MODEL_MEAN_Z500_DJF.nc'.format(base_dir))\n",
    "zg_jja = xa.open_dataset('{:}/REAN_MODEL_MEAN_Z500_JJA.nc'.format(base_dir))"
   ]
  },
  {
   "cell_type": "code",
   "execution_count": 9,
   "metadata": {},
   "outputs": [],
   "source": [
    "#Implementing Gleckler relative error \n",
    "#Adding on the RMSE calculation for each region\n",
    "def rmse_region(rean,mod,bot_coord,top_coord,normalize=False):\n",
    "    r_slice=rean.sel(lat=slice(bot_coord,top_coord))\n",
    "    m_slice=mod.sel(lat=slice(bot_coord,top_coord))\n",
    "    diff_slice=m_slice-r_slice\n",
    "    maxmin=r_slice.values.max()-r_slice.values.min()\n",
    "    #iqr=np.quantile(r_slice.values,0.75)-np.quantile(r_slice.values,0.25)\n",
    "    #print(maxmin)\n",
    "    #print(iqr)\n",
    "    rmse = np.sqrt((diff_slice.values**2).mean())\n",
    "    #print(rmse)\n",
    "    if (normalize==False):\n",
    "        rmse_out=rmse\n",
    "    else:\n",
    "        rmse_out=rmse/maxmin\n",
    "    #nrmse=rmse/maxmin\n",
    "    return(rmse_out)\n",
    "\n",
    "# #Pearson correlation for reanalysis vs model\n",
    "# def corr_calc(bot_coord,top_coord,rean,mod):\n",
    "#     a_slice=mod.sel(lat=slice(bot_coord,top_coord))\n",
    "#     r_slice=rean.sel(lat=slice(bot_coord,top_coord))\n",
    "#     a_flat=np.ndarray.flatten(a_slice.values)\n",
    "#     r_flat=np.ndarray.flatten(r_slice.values)\n",
    "#     return(pearsonr(a_flat,r_flat))\n"
   ]
  },
  {
   "cell_type": "code",
   "execution_count": 4,
   "metadata": {},
   "outputs": [],
   "source": [
    "#Calculate the RMSE for each model vs the reanalysis\n",
    "def calc_rmse_metric(mod_list,avg_set,r,s,varname_r,varname_m,t,b,metname,output_dataframe,comparemet='median'):\n",
    "    rean_var=avg_set[varname_r]\n",
    "    store_rmse={\"Region\":r,\"Season\":s,\"Metric\":metname}\n",
    "    list_rmse=[]\n",
    "    #Calculate the RMSE for each model and store it\n",
    "    for d in mod_list:\n",
    "        mod_var=avg_set[d]\n",
    "        rmse_dat=rmse_region(rean_var,mod_var,b,t,normalize=True)\n",
    "        list_rmse+=[rmse_dat]\n",
    "        if (comparemet!='median'):\n",
    "            store_rmse[d]=rmse_dat\n",
    "            \n",
    "    if (comparemet=='median'):\n",
    "        #What is the median rmse for this?\n",
    "        rmse_median=np.percentile(list_rmse,50)\n",
    "\n",
    "        for d in mod_list:\n",
    "            mod_var=avg_set[d]\n",
    "            rmse_dat=rmse_region(rean_var,mod_var,b,t,normalize=True)\n",
    "            dat_rel=(rmse_dat-rmse_median)/rmse_median\n",
    "            store_rmse[d]=dat_rel\n",
    "\n",
    "    #Calculate relative rmse for the model average\n",
    "    mod_var=avg_set[varname_m]\n",
    "    rmse_mod=rmse_region(rean_var,mod_var,b,t,normalize=True)\n",
    "    if (comparemet=='median'):\n",
    "        mod_rel=(rmse_mod-rmse_median)/rmse_median\n",
    "        store_rmse['Model_avg']=mod_rel\n",
    "    else:\n",
    "        store_rmse['Model_avg']=rmse_mod\n",
    "\n",
    "    output_dataframe=output_dataframe.append(store_rmse,ignore_index=True)\n",
    "    col_order=['Region','Season','Metric','Model_avg']+mod_list\n",
    "    output_dataframe=output_dataframe[col_order]\n",
    "    return(output_dataframe)"
   ]
  },
  {
   "cell_type": "code",
   "execution_count": 5,
   "metadata": {},
   "outputs": [],
   "source": [
    "#Compare two histograms (relative frequency)\n",
    "#SUM OF HISTOGRAMS: Max would be 2 (if they were on top of each other), min would be 1\n",
    "\n",
    "def histogram_diffs(rean,model,vmin,vmax,binsize,normalize=False):\n",
    "    bins=np.arange(vmin,vmax,binsize)\n",
    "    binned_rean=np.histogram(np.clip(rean,vmin,vmax),bins)[0]/len(rean)\n",
    "    binned_model=np.histogram(np.clip(model,vmin,vmax),bins)[0]/len(model)\n",
    "    print(binned_rean)\n",
    "    print(binned_model)\n",
    "    maxmin=np.max(binned_rean)-np.min(binned_rean)\n",
    "    print(maxmin)\n",
    "    diff_bins_sq=(binned_model-binned_rean)**2\n",
    "    root_diff=np.sqrt(diff_bins_sq.mean())\n",
    "    if (normalize==False):\n",
    "        diff_out=root_diff\n",
    "    else:\n",
    "        diff_out=root_diff/maxmin\n",
    "    #print(root_diff,maxmin,diff_out)\n",
    "    return(diff_out)\n",
    "\n",
    "#Compare models to the median model \n",
    "def calc_rmse_distr(mod_list,r,s,metname,input_frame,output_dataframe,comparemet='median'):\n",
    "    store_rmse={\"Region\":r,\"Season\":s,\"Metric\":metname}\n",
    "    frame_sub=input_frame[input_frame['region'].str.match(r)&input_frame['season'].str.match(s)]\n",
    "    frame_r=frame_sub[frame_sub['model'].str.match('rean')]\n",
    "    var_r=frame_r[metname]\n",
    "    vmin=round(np.percentile(var_r,1),2)\n",
    "    vmax=round(np.percentile(var_r,99),2)\n",
    "    binsize=np.around((vmax-vmin)/25,1)\n",
    "    \n",
    "    frame_m=frame_sub[frame_sub['model'].str.match('model')]\n",
    "    list_rmse=[]\n",
    "    #Calculate the RMSE for each model and store it\n",
    "    for d in mod_list:\n",
    "        frame_indiv=frame_sub[frame_sub['var'].str.match(d)]\n",
    "        var_m=frame_indiv[metname]\n",
    "        #rmse_dat=rmse_distributions(var_r,var_m)\n",
    "        rmse_dat=histogram_diffs(var_r,var_m,vmin,vmax,binsize,normalize=True)\n",
    "        list_rmse+=[rmse_dat]\n",
    "        if (comparemet!='median'):\n",
    "            store_rmse[d]=rmse_dat\n",
    "    if (comparemet=='median'):\n",
    "        #What is the median rmse for this?\n",
    "        rmse_median=np.percentile(list_rmse,50)\n",
    "        for d in mod_list:\n",
    "            frame_indiv=frame_sub[frame_sub['var'].str.match(d)]\n",
    "            var_m=frame_indiv[metname]\n",
    "            #rmse_dat=rmse_distributions(var_r,var_m)\n",
    "            rmse_dat=histogram_diffs(var_r,var_m,vmin,vmax,binsize,normalize=True)\n",
    "            dat_rel=(rmse_dat-rmse_median)/rmse_median\n",
    "            store_rmse[d]=dat_rel\n",
    "\n",
    "    #Calculate relative rmse for the model average\n",
    "    var_m=frame_m[metname]\n",
    "    rmse_mod=histogram_diffs(var_r,var_m,vmin,vmax,binsize,normalize=True)\n",
    "    #rmse_mod=rmse_distributions(var_r,var_m)\n",
    "    if (comparemet=='median'):\n",
    "        mod_rel=(rmse_mod-rmse_median)/rmse_median\n",
    "        store_rmse['Model_avg']=mod_rel\n",
    "    else:\n",
    "        store_rmse['Model_avg']=rmse_mod\n",
    "\n",
    "    output_dataframe=output_dataframe.append(store_rmse,ignore_index=True)\n",
    "    col_order=['Region','Season','Metric','Model_avg']+mod_list\n",
    "    output_dataframe=output_dataframe[col_order]\n",
    "    return(output_dataframe)"
   ]
  },
  {
   "cell_type": "code",
   "execution_count": 6,
   "metadata": {},
   "outputs": [
    {
     "ename": "NameError",
     "evalue": "name 'avg_jja' is not defined",
     "output_type": "error",
     "traceback": [
      "\u001b[0;31m---------------------------------------------------------------------------\u001b[0m",
      "\u001b[0;31mNameError\u001b[0m                                 Traceback (most recent call last)",
      "\u001b[0;32m<ipython-input-6-207c94a0c473>\u001b[0m in \u001b[0;36m<module>\u001b[0;34m\u001b[0m\n\u001b[1;32m      1\u001b[0m \u001b[0mmetrics_relative\u001b[0m\u001b[0;34m=\u001b[0m\u001b[0mpd\u001b[0m\u001b[0;34m.\u001b[0m\u001b[0mDataFrame\u001b[0m\u001b[0;34m(\u001b[0m\u001b[0;34m)\u001b[0m\u001b[0;34m\u001b[0m\u001b[0;34m\u001b[0m\u001b[0m\n\u001b[1;32m      2\u001b[0m \u001b[0;31m#Blocking Frequency, relative\u001b[0m\u001b[0;34m\u001b[0m\u001b[0;34m\u001b[0m\u001b[0;34m\u001b[0m\u001b[0m\n\u001b[0;32m----> 3\u001b[0;31m \u001b[0mmetrics_relative\u001b[0m\u001b[0;34m=\u001b[0m\u001b[0mcalc_rmse_metric\u001b[0m\u001b[0;34m(\u001b[0m\u001b[0mdats_mod2\u001b[0m\u001b[0;34m,\u001b[0m\u001b[0mavg_jja\u001b[0m\u001b[0;34m,\u001b[0m\u001b[0;34m'NH'\u001b[0m\u001b[0;34m,\u001b[0m\u001b[0;34m'JJA'\u001b[0m\u001b[0;34m,\u001b[0m\u001b[0;34m'reanBlockMean'\u001b[0m\u001b[0;34m,\u001b[0m\u001b[0;34m'modelBlockMean'\u001b[0m\u001b[0;34m,\u001b[0m\u001b[0;36m75\u001b[0m\u001b[0;34m,\u001b[0m\u001b[0;36m25\u001b[0m\u001b[0;34m,\u001b[0m\u001b[0;34m'RMSE Freq'\u001b[0m\u001b[0;34m,\u001b[0m\u001b[0mmetrics_relative\u001b[0m\u001b[0;34m)\u001b[0m\u001b[0;34m\u001b[0m\u001b[0;34m\u001b[0m\u001b[0m\n\u001b[0m\u001b[1;32m      4\u001b[0m \u001b[0;31m#metrics_relative=calc_rmse_metric(dats_mod2,avg_jja,'SH','JJA','reanBlockMean','modelBlockMean',-25,-75,'RMSE Freq',metrics_relative)\u001b[0m\u001b[0;34m\u001b[0m\u001b[0;34m\u001b[0m\u001b[0;34m\u001b[0m\u001b[0m\n\u001b[1;32m      5\u001b[0m \u001b[0;31m#metrics_relative=calc_rmse_metric(dats_mod2,avg_djf,'NH','DJF','reanBlockMean','modelBlockMean',75,25,'RMSE Freq',metrics_relative)\u001b[0m\u001b[0;34m\u001b[0m\u001b[0;34m\u001b[0m\u001b[0;34m\u001b[0m\u001b[0m\n",
      "\u001b[0;31mNameError\u001b[0m: name 'avg_jja' is not defined"
     ]
    }
   ],
   "source": [
    "metrics_relative=pd.DataFrame()\n",
    "#Blocking Frequency, relative\n",
    "#metrics_relative=calc_rmse_metric(dats_mod2,avg_jja,'NH','JJA','reanBlockMean','modelBlockMean',75,25,'RMSE Freq',metrics_relative)\n",
    "#metrics_relative=calc_rmse_metric(dats_mod2,avg_jja,'SH','JJA','reanBlockMean','modelBlockMean',-25,-75,'RMSE Freq',metrics_relative)\n",
    "#metrics_relative=calc_rmse_metric(dats_mod2,avg_djf,'NH','DJF','reanBlockMean','modelBlockMean',75,25,'RMSE Freq',metrics_relative)\n",
    "#metrics_relative=calc_rmse_metric(dats_mod2,avg_djf,'SH','DJF','reanBlockMean','modelBlockMean',-25,-75,'RMSE Freq',metrics_relative)\n",
    "#LTDM, relative\n",
    "#metrics_relative=calc_rmse_metric(dats_mod2,az_jja,'NH','JJA','reanMean','modelMean',75,25,'RMSE LTDM',metrics_relative)\n",
    "#metrics_relative=calc_rmse_metric(dats_mod2,az_jja,'SH','JJA','reanMean','modelMean',-25,-75,'RMSE LTDM',metrics_relative)\n",
    "#metrics_relative=calc_rmse_metric(dats_mod2,az_djf,'NH','DJF','reanMean','modelMean',75,25,'RMSE LTDM',metrics_relative)\n",
    "#metrics_relative=calc_rmse_metric(dats_mod2,az_djf,'SH','DJF','reanMean','modelMean',-25,-75,'RMSE LTDM',metrics_relative)\n",
    "#Z500, relative\n",
    "#metrics_relative=calc_rmse_metric(dats_mod2,zg_jja,'NH','JJA','reanMean','modelMean',75,25,'RMSE Z500',metrics_relative)\n",
    "#metrics_relative=calc_rmse_metric(dats_mod2,zg_jja,'SH','JJA','reanMean','modelMean',-25,-75,'RMSE Z500',metrics_relative)\n",
    "#metrics_relative=calc_rmse_metric(dats_mod2,zg_djf,'NH','DJF','reanMean','modelMean',75,25,'RMSE Z500',metrics_relative)\n",
    "#metrics_relative=calc_rmse_metric(dats_mod2,zg_djf,'SH','DJF','reanMean','modelMean',-25,-75,'RMSE Z500',metrics_relative)"
   ]
  },
  {
   "cell_type": "code",
   "execution_count": 16,
   "metadata": {},
   "outputs": [
    {
     "name": "stderr",
     "output_type": "stream",
     "text": [
      "/global/homes/m/marielp/.conda/envs/jupyter_kernel/lib/python3.6/site-packages/matplotlib/axes/_axes.py:6521: MatplotlibDeprecationWarning: \n",
      "The 'normed' kwarg was deprecated in Matplotlib 2.1 and will be removed in 3.1. Use 'density' instead.\n",
      "  alternative=\"'density'\", removal=\"3.1\")\n",
      "/global/homes/m/marielp/.conda/envs/jupyter_kernel/lib/python3.6/site-packages/matplotlib/axes/_axes.py:6521: MatplotlibDeprecationWarning: \n",
      "The 'normed' kwarg was deprecated in Matplotlib 2.1 and will be removed in 3.1. Use 'density' instead.\n",
      "  alternative=\"'density'\", removal=\"3.1\")\n",
      "/global/homes/m/marielp/.conda/envs/jupyter_kernel/lib/python3.6/site-packages/matplotlib/axes/_axes.py:6521: MatplotlibDeprecationWarning: \n",
      "The 'normed' kwarg was deprecated in Matplotlib 2.1 and will be removed in 3.1. Use 'density' instead.\n",
      "  alternative=\"'density'\", removal=\"3.1\")\n"
     ]
    },
    {
     "data": {
      "text/plain": [
       "(array([0.04865717, 0.07542649, 0.05290877, 0.02944625, 0.01385706,\n",
       "        0.00409413, 0.0033068 , 0.00031493, 0.00015747, 0.00031493]),\n",
       " array([ 0.        ,  4.376674  ,  8.75334801, 13.13002201, 17.50669601,\n",
       "        21.88337001, 26.26004402, 30.63671802, 35.01339202, 39.39006602,\n",
       "        43.76674003]),\n",
       " <a list of 10 Patch objects>)"
      ]
     },
     "execution_count": 16,
     "metadata": {},
     "output_type": "execute_result"
    },
    {
     "data": {
      "image/png": "[encoded data removed]",
      "text/plain": [
       "<Figure size 432x288 with 1 Axes>"
      ]
     },
     "metadata": {
      "needs_background": "light"
     },
     "output_type": "display_data"
    }
   ],
   "source": [
    "#var_str=['duration_days',\n",
    "# 'abs_centlat',\n",
    "# 'mean_area',\n",
    "# 'zonal_speed_km',\n",
    "# 'mean_AI',\n",
    "# 'mean_BI']\n",
    "\n",
    "#for r in ['NH','SH']:\n",
    "#    for s in ['JJA','DJF']:\n",
    "#        for v in var_str:\n",
    "#            metrics_relative=calc_rmse_distr(dats_mod2,r,s,v,all_all,metrics_relative)\n",
    "all_sub=all_all[all_all['var']=='CMCC-CESM']\n",
    "all_sub2=all_all[all_all['var']=='MIROC5']\n",
    "plt.hist(all_all['zonal_speed_km'],normed=True)\n",
    "plt.hist(all_sub['zonal_speed_km'],normed=True)\n",
    "plt.hist(all_sub2['zonal_speed_km'],normed=True)"
   ]
  },
  {
   "cell_type": "code",
   "execution_count": 11,
   "metadata": {},
   "outputs": [],
   "source": [
    "metrics_relative.to_csv(\"metrics_frame.csv\")"
   ]
  },
  {
   "cell_type": "code",
   "execution_count": 56,
   "metadata": {},
   "outputs": [],
   "source": [
    "def mk_metrics_plot(metrics_long,r,s,vmin,vmax,cmap,tstring):\n",
    "    metrics_sub=metrics_long[metrics_long['Region'].str.match(r)&metrics_long['Season'].str.match(s)]    \n",
    "    col_pivot=['Model_avg']+dats_mod2\n",
    "    metrics_pivot=metrics_sub.pivot(index='Metric',columns='variable',values='value')\n",
    "    metrics_pivot=metrics_pivot.reindex(col_pivot,axis=1)\n",
    "    right_labs=[]\n",
    "    for i in metrics_pivot.index:\n",
    "        mean_met=metrics_pivot.loc[i].mean()\n",
    "        right_labs+=[str(mean_met)]\n",
    "    #Make a dictionary of the \n",
    "    fig,ax=plt.subplots(figsize=(12,8))\n",
    "    ax2=ax.twinx()\n",
    "    ax2.set_yticks(right_labs)\n",
    "    fig=sns.heatmap(metrics_pivot,ax=ax,cmap=cmap,center=0,vmin=vmin,vmax=vmax,linewidths=0.5).set_title(tstring)\n",
    "    "
   ]
  },
  {
   "cell_type": "code",
   "execution_count": 45,
   "metadata": {},
   "outputs": [
    {
     "name": "stdout",
     "output_type": "stream",
     "text": [
      "0.10130426617792974\n",
      "0.15963440050198657\n",
      "0.26147921071192426\n",
      "0.05110346221645613\n",
      "0.14403714853489902\n",
      "0.2772132176054462\n",
      "0.13479210116228452\n",
      "0.1624001402055004\n"
     ]
    }
   ],
   "source": [
    "metrics_sub=metrics_long[metrics_long['Region'].str.match('NH')&metrics_long['Season'].str.match('DJF')] \n",
    "col_pivot=['Model_avg']+dats_mod2\n",
    "metrics_pivot=metrics_sub.pivot(index='Metric',columns='variable',values='value')\n",
    "#metrics_pivot.loc['RMSE LTDM']\n",
    "for i in metrics_pivot.index:\n",
    "    mean_met=metrics_pivot.loc[i].mean()\n",
    "    print(mean_met)"
   ]
  },
  {
   "cell_type": "code",
   "execution_count": 57,
   "metadata": {},
   "outputs": [
    {
     "ename": "AttributeError",
     "evalue": "'NoneType' object has no attribute 'update'",
     "output_type": "error",
     "traceback": [
      "\u001b[0;31m---------------------------------------------------------------------------\u001b[0m",
      "\u001b[0;31mAttributeError\u001b[0m                            Traceback (most recent call last)",
      "\u001b[0;32m<ipython-input-57-3790f5b596d8>\u001b[0m in \u001b[0;36m<module>\u001b[0;34m\u001b[0m\n\u001b[1;32m      5\u001b[0m     \u001b[0;32mfor\u001b[0m \u001b[0ms\u001b[0m \u001b[0;32min\u001b[0m \u001b[0;34m[\u001b[0m\u001b[0;34m'JJA'\u001b[0m\u001b[0;34m,\u001b[0m\u001b[0;34m'DJF'\u001b[0m\u001b[0;34m]\u001b[0m\u001b[0;34m:\u001b[0m\u001b[0;34m\u001b[0m\u001b[0;34m\u001b[0m\u001b[0m\n\u001b[1;32m      6\u001b[0m         \u001b[0mtstring\u001b[0m\u001b[0;34m=\u001b[0m\u001b[0;34m\"Relative metrics for {:} {:}\"\u001b[0m\u001b[0;34m.\u001b[0m\u001b[0mformat\u001b[0m\u001b[0;34m(\u001b[0m\u001b[0mr\u001b[0m\u001b[0;34m,\u001b[0m\u001b[0ms\u001b[0m\u001b[0;34m)\u001b[0m\u001b[0;34m\u001b[0m\u001b[0;34m\u001b[0m\u001b[0m\n\u001b[0;32m----> 7\u001b[0;31m         \u001b[0mmk_metrics_plot\u001b[0m\u001b[0;34m(\u001b[0m\u001b[0mmetrics_long\u001b[0m\u001b[0;34m,\u001b[0m\u001b[0mr\u001b[0m\u001b[0;34m,\u001b[0m\u001b[0ms\u001b[0m\u001b[0;34m,\u001b[0m\u001b[0;34m-\u001b[0m\u001b[0;36m0.75\u001b[0m\u001b[0;34m,\u001b[0m\u001b[0;36m0.75\u001b[0m\u001b[0;34m,\u001b[0m\u001b[0;34m'bwr'\u001b[0m\u001b[0;34m,\u001b[0m\u001b[0mtstring\u001b[0m\u001b[0;34m)\u001b[0m\u001b[0;34m\u001b[0m\u001b[0;34m\u001b[0m\u001b[0m\n\u001b[0m\u001b[1;32m      8\u001b[0m \u001b[0;31m#mk_metrics_plot(metrics_long,\"NH\",\"JJA\",-0.75,0.75,'bwr')\u001b[0m\u001b[0;34m\u001b[0m\u001b[0;34m\u001b[0m\u001b[0;34m\u001b[0m\u001b[0m\n\u001b[1;32m      9\u001b[0m \u001b[0;31m#mk_metrics_plot(metrics_long,\"NH\",\"DJF\",-0.75,0.75,'bwr')\u001b[0m\u001b[0;34m\u001b[0m\u001b[0;34m\u001b[0m\u001b[0;34m\u001b[0m\u001b[0m\n",
      "\u001b[0;32m<ipython-input-56-090f547e3160>\u001b[0m in \u001b[0;36mmk_metrics_plot\u001b[0;34m(metrics_long, r, s, vmin, vmax, cmap, tstring)\u001b[0m\n\u001b[1;32m     11\u001b[0m     \u001b[0mfig\u001b[0m\u001b[0;34m,\u001b[0m\u001b[0max\u001b[0m\u001b[0;34m=\u001b[0m\u001b[0mplt\u001b[0m\u001b[0;34m.\u001b[0m\u001b[0msubplots\u001b[0m\u001b[0;34m(\u001b[0m\u001b[0mfigsize\u001b[0m\u001b[0;34m=\u001b[0m\u001b[0;34m(\u001b[0m\u001b[0;36m12\u001b[0m\u001b[0;34m,\u001b[0m\u001b[0;36m8\u001b[0m\u001b[0;34m)\u001b[0m\u001b[0;34m)\u001b[0m\u001b[0;34m\u001b[0m\u001b[0;34m\u001b[0m\u001b[0m\n\u001b[1;32m     12\u001b[0m     \u001b[0max2\u001b[0m\u001b[0;34m=\u001b[0m\u001b[0max\u001b[0m\u001b[0;34m.\u001b[0m\u001b[0mtwinx\u001b[0m\u001b[0;34m(\u001b[0m\u001b[0;34m)\u001b[0m\u001b[0;34m\u001b[0m\u001b[0;34m\u001b[0m\u001b[0m\n\u001b[0;32m---> 13\u001b[0;31m     \u001b[0max2\u001b[0m\u001b[0;34m.\u001b[0m\u001b[0mset_yticks\u001b[0m\u001b[0;34m(\u001b[0m\u001b[0mright_labs\u001b[0m\u001b[0;34m)\u001b[0m\u001b[0;34m\u001b[0m\u001b[0;34m\u001b[0m\u001b[0m\n\u001b[0m\u001b[1;32m     14\u001b[0m     \u001b[0mfig\u001b[0m\u001b[0;34m=\u001b[0m\u001b[0msns\u001b[0m\u001b[0;34m.\u001b[0m\u001b[0mheatmap\u001b[0m\u001b[0;34m(\u001b[0m\u001b[0mmetrics_pivot\u001b[0m\u001b[0;34m,\u001b[0m\u001b[0max\u001b[0m\u001b[0;34m=\u001b[0m\u001b[0max\u001b[0m\u001b[0;34m,\u001b[0m\u001b[0mcmap\u001b[0m\u001b[0;34m=\u001b[0m\u001b[0mcmap\u001b[0m\u001b[0;34m,\u001b[0m\u001b[0mcenter\u001b[0m\u001b[0;34m=\u001b[0m\u001b[0;36m0\u001b[0m\u001b[0;34m,\u001b[0m\u001b[0mvmin\u001b[0m\u001b[0;34m=\u001b[0m\u001b[0mvmin\u001b[0m\u001b[0;34m,\u001b[0m\u001b[0mvmax\u001b[0m\u001b[0;34m=\u001b[0m\u001b[0mvmax\u001b[0m\u001b[0;34m,\u001b[0m\u001b[0mlinewidths\u001b[0m\u001b[0;34m=\u001b[0m\u001b[0;36m0.5\u001b[0m\u001b[0;34m)\u001b[0m\u001b[0;34m.\u001b[0m\u001b[0mset_title\u001b[0m\u001b[0;34m(\u001b[0m\u001b[0mtstring\u001b[0m\u001b[0;34m)\u001b[0m\u001b[0;34m\u001b[0m\u001b[0;34m\u001b[0m\u001b[0m\n\u001b[1;32m     15\u001b[0m \u001b[0;34m\u001b[0m\u001b[0m\n",
      "\u001b[0;32m~/.conda/envs/jupyter_kernel/lib/python3.6/site-packages/matplotlib/axes/_base.py\u001b[0m in \u001b[0;36mset_yticks\u001b[0;34m(self, ticks, minor)\u001b[0m\n\u001b[1;32m   3724\u001b[0m             \u001b[0mDefault\u001b[0m \u001b[0;32mis\u001b[0m\u001b[0;31m \u001b[0m\u001b[0;31m`\u001b[0m\u001b[0;31m`\u001b[0m\u001b[0;32mFalse\u001b[0m\u001b[0;31m`\u001b[0m\u001b[0;31m`\u001b[0m\u001b[0;34m.\u001b[0m\u001b[0;34m\u001b[0m\u001b[0;34m\u001b[0m\u001b[0m\n\u001b[1;32m   3725\u001b[0m         \"\"\"\n\u001b[0;32m-> 3726\u001b[0;31m         \u001b[0mret\u001b[0m \u001b[0;34m=\u001b[0m \u001b[0mself\u001b[0m\u001b[0;34m.\u001b[0m\u001b[0myaxis\u001b[0m\u001b[0;34m.\u001b[0m\u001b[0mset_ticks\u001b[0m\u001b[0;34m(\u001b[0m\u001b[0mticks\u001b[0m\u001b[0;34m,\u001b[0m \u001b[0mminor\u001b[0m\u001b[0;34m=\u001b[0m\u001b[0mminor\u001b[0m\u001b[0;34m)\u001b[0m\u001b[0;34m\u001b[0m\u001b[0;34m\u001b[0m\u001b[0m\n\u001b[0m\u001b[1;32m   3727\u001b[0m         \u001b[0;32mreturn\u001b[0m \u001b[0mret\u001b[0m\u001b[0;34m\u001b[0m\u001b[0;34m\u001b[0m\u001b[0m\n\u001b[1;32m   3728\u001b[0m \u001b[0;34m\u001b[0m\u001b[0m\n",
      "\u001b[0;32m~/.conda/envs/jupyter_kernel/lib/python3.6/site-packages/matplotlib/axis.py\u001b[0m in \u001b[0;36mset_ticks\u001b[0;34m(self, ticks, minor)\u001b[0m\n\u001b[1;32m   1702\u001b[0m         \"\"\"\n\u001b[1;32m   1703\u001b[0m         \u001b[0;31m# XXX if the user changes units, the information will be lost here\u001b[0m\u001b[0;34m\u001b[0m\u001b[0;34m\u001b[0m\u001b[0;34m\u001b[0m\u001b[0m\n\u001b[0;32m-> 1704\u001b[0;31m         \u001b[0mticks\u001b[0m \u001b[0;34m=\u001b[0m \u001b[0mself\u001b[0m\u001b[0;34m.\u001b[0m\u001b[0mconvert_units\u001b[0m\u001b[0;34m(\u001b[0m\u001b[0mticks\u001b[0m\u001b[0;34m)\u001b[0m\u001b[0;34m\u001b[0m\u001b[0;34m\u001b[0m\u001b[0m\n\u001b[0m\u001b[1;32m   1705\u001b[0m         \u001b[0;32mif\u001b[0m \u001b[0mlen\u001b[0m\u001b[0;34m(\u001b[0m\u001b[0mticks\u001b[0m\u001b[0;34m)\u001b[0m \u001b[0;34m>\u001b[0m \u001b[0;36m1\u001b[0m\u001b[0;34m:\u001b[0m\u001b[0;34m\u001b[0m\u001b[0;34m\u001b[0m\u001b[0m\n\u001b[1;32m   1706\u001b[0m             \u001b[0mxleft\u001b[0m\u001b[0;34m,\u001b[0m \u001b[0mxright\u001b[0m \u001b[0;34m=\u001b[0m \u001b[0mself\u001b[0m\u001b[0;34m.\u001b[0m\u001b[0mget_view_interval\u001b[0m\u001b[0;34m(\u001b[0m\u001b[0;34m)\u001b[0m\u001b[0;34m\u001b[0m\u001b[0;34m\u001b[0m\u001b[0m\n",
      "\u001b[0;32m~/.conda/envs/jupyter_kernel/lib/python3.6/site-packages/matplotlib/axis.py\u001b[0m in \u001b[0;36mconvert_units\u001b[0;34m(self, x)\u001b[0m\n\u001b[1;32m   1528\u001b[0m             \u001b[0;32mreturn\u001b[0m \u001b[0mx\u001b[0m\u001b[0;34m\u001b[0m\u001b[0;34m\u001b[0m\u001b[0m\n\u001b[1;32m   1529\u001b[0m \u001b[0;34m\u001b[0m\u001b[0m\n\u001b[0;32m-> 1530\u001b[0;31m         \u001b[0mret\u001b[0m \u001b[0;34m=\u001b[0m \u001b[0mself\u001b[0m\u001b[0;34m.\u001b[0m\u001b[0mconverter\u001b[0m\u001b[0;34m.\u001b[0m\u001b[0mconvert\u001b[0m\u001b[0;34m(\u001b[0m\u001b[0mx\u001b[0m\u001b[0;34m,\u001b[0m \u001b[0mself\u001b[0m\u001b[0;34m.\u001b[0m\u001b[0munits\u001b[0m\u001b[0;34m,\u001b[0m \u001b[0mself\u001b[0m\u001b[0;34m)\u001b[0m\u001b[0;34m\u001b[0m\u001b[0;34m\u001b[0m\u001b[0m\n\u001b[0m\u001b[1;32m   1531\u001b[0m         \u001b[0;32mreturn\u001b[0m \u001b[0mret\u001b[0m\u001b[0;34m\u001b[0m\u001b[0;34m\u001b[0m\u001b[0m\n\u001b[1;32m   1532\u001b[0m \u001b[0;34m\u001b[0m\u001b[0m\n",
      "\u001b[0;32m~/.conda/envs/jupyter_kernel/lib/python3.6/site-packages/matplotlib/category.py\u001b[0m in \u001b[0;36mconvert\u001b[0;34m(value, unit, axis)\u001b[0m\n\u001b[1;32m     51\u001b[0m \u001b[0;34m\u001b[0m\u001b[0m\n\u001b[1;32m     52\u001b[0m         \u001b[0;31m# force an update so it also does type checking\u001b[0m\u001b[0;34m\u001b[0m\u001b[0;34m\u001b[0m\u001b[0;34m\u001b[0m\u001b[0m\n\u001b[0;32m---> 53\u001b[0;31m         \u001b[0munit\u001b[0m\u001b[0;34m.\u001b[0m\u001b[0mupdate\u001b[0m\u001b[0;34m(\u001b[0m\u001b[0mvalues\u001b[0m\u001b[0;34m)\u001b[0m\u001b[0;34m\u001b[0m\u001b[0;34m\u001b[0m\u001b[0m\n\u001b[0m\u001b[1;32m     54\u001b[0m \u001b[0;34m\u001b[0m\u001b[0m\n\u001b[1;32m     55\u001b[0m         str2idx = np.vectorize(unit._mapping.__getitem__,\n",
      "\u001b[0;31mAttributeError\u001b[0m: 'NoneType' object has no attribute 'update'"
     ]
    },
    {
     "data": {
      "image/png": "[encoded data removed]",
      "text/plain": [
       "<Figure size 864x576 with 2 Axes>"
      ]
     },
     "metadata": {
      "needs_background": "light"
     },
     "output_type": "display_data"
    }
   ],
   "source": [
    "metrics_relative=pd.read_csv(\"metrics_frame.csv\",index_col=0)\n",
    "metrics_long=pd.melt(metrics_relative,id_vars=['Region','Season','Metric'])\n",
    "\n",
    "for r in ['NH','SH']:\n",
    "    for s in ['JJA','DJF']:\n",
    "        tstring=\"Relative metrics for {:} {:}\".format(r,s)\n",
    "        mk_metrics_plot(metrics_long,r,s,-0.75,0.75,'bwr',tstring)\n",
    "#mk_metrics_plot(metrics_long,\"NH\",\"JJA\",-0.75,0.75,'bwr')\n",
    "#mk_metrics_plot(metrics_long,\"NH\",\"DJF\",-0.75,0.75,'bwr')\n",
    "#mk_metrics_plot(metrics_long,\"SH\",\"JJA\",-0.75,0.75,'bwr')\n",
    "#mk_metrics_plot(metrics_long,\"SH\",\"DJF\",-0.75,0.75,'bwr',tstring)\n"
   ]
  },
  {
   "cell_type": "code",
   "execution_count": 27,
   "metadata": {},
   "outputs": [],
   "source": [
    "#Do the same thing for the absolute metrics\n",
    "metrics_absolute=pd.DataFrame()\n",
    "#Blocking Frequency, absolute\n",
    "metrics_absolute=calc_rmse_metric(dats_mod2,avg_jja,'NH','JJA','reanBlockMean','modelBlockMean',75,25,'RMSE Freq',metrics_absolute,comparemet='absolute')\n",
    "metrics_absolute=calc_rmse_metric(dats_mod2,avg_jja,'SH','JJA','reanBlockMean','modelBlockMean',-25,-75,'RMSE Freq',metrics_absolute,comparemet='absolute')\n",
    "metrics_absolute=calc_rmse_metric(dats_mod2,avg_djf,'NH','DJF','reanBlockMean','modelBlockMean',75,25,'RMSE Freq',metrics_absolute,comparemet='absolute')\n",
    "metrics_absolute=calc_rmse_metric(dats_mod2,avg_djf,'SH','DJF','reanBlockMean','modelBlockMean',-25,-75,'RMSE Freq',metrics_absolute,comparemet='absolute')\n",
    "#LTDM, absolute\n",
    "metrics_absolute=calc_rmse_metric(dats_mod2,az_jja,'NH','JJA','reanMean','modelMean',75,25,'RMSE LTDM',metrics_absolute,comparemet='absolute')\n",
    "metrics_absolute=calc_rmse_metric(dats_mod2,az_jja,'SH','JJA','reanMean','modelMean',-25,-75,'RMSE LTDM',metrics_absolute,comparemet='absolute')\n",
    "metrics_absolute=calc_rmse_metric(dats_mod2,az_djf,'NH','DJF','reanMean','modelMean',75,25,'RMSE LTDM',metrics_absolute,comparemet='absolute')\n",
    "metrics_absolute=calc_rmse_metric(dats_mod2,az_djf,'SH','DJF','reanMean','modelMean',-25,-75,'RMSE LTDM',metrics_absolute,comparemet='absolute')\n",
    "#LTDM, absolute\n",
    "metrics_absolute=calc_rmse_metric(dats_mod2,zg_jja,'NH','JJA','reanMean','modelMean',75,25,'RMSE LTDM',metrics_absolute,comparemet='absolute')\n",
    "metrics_absolute=calc_rmse_metric(dats_mod2,zg_jja,'SH','JJA','reanMean','modelMean',-25,-75,'RMSE LTDM',metrics_absolute,comparemet='absolute')\n",
    "metrics_absolute=calc_rmse_metric(dats_mod2,zg_djf,'NH','DJF','reanMean','modelMean',75,25,'RMSE LTDM',metrics_absolute,comparemet='absolute')\n",
    "metrics_absolute=calc_rmse_metric(dats_mod2,zg_djf,'SH','DJF','reanMean','modelMean',-25,-75,'RMSE LTDM',metrics_absolute,comparemet='absolute')\n",
    "var_str=['duration_days',\n",
    " 'abs_centlat',\n",
    " 'mean_area',\n",
    " 'zonal_speed_km',\n",
    " 'mean_AI',\n",
    " 'mean_BI']\n",
    "\n",
    "for r in ['NH','SH']:\n",
    "    for s in ['JJA','DJF']:\n",
    "        for v in var_str:\n",
    "            metrics_absolute=calc_rmse_distr(dats_mod2,r,s,v,all_all,metrics_absolute,comparemet='absolute')"
   ]
  },
  {
   "cell_type": "code",
   "execution_count": 33,
   "metadata": {},
   "outputs": [
    {
     "data": {
      "image/png": "[encoded data removed]",
      "text/plain": [
       "<Figure size 432x288 with 2 Axes>"
      ]
     },
     "metadata": {
      "needs_background": "light"
     },
     "output_type": "display_data"
    },
    {
     "data": {
      "image/png": "[encoded data removed]",
      "text/plain": [
       "<Figure size 432x288 with 2 Axes>"
      ]
     },
     "metadata": {
      "needs_background": "light"
     },
     "output_type": "display_data"
    },
    {
     "data": {
      "image/png": "[encoded data removed]",
      "text/plain": [
       "<Figure size 432x288 with 2 Axes>"
      ]
     },
     "metadata": {
      "needs_background": "light"
     },
     "output_type": "display_data"
    },
    {
     "data": {
      "image/png": "[encoded data removed]",
      "text/plain": [
       "<Figure size 432x288 with 2 Axes>"
      ]
     },
     "metadata": {
      "needs_background": "light"
     },
     "output_type": "display_data"
    }
   ],
   "source": [
    "metrics_long=pd.melt(metrics_absolute,id_vars=['Region','Season','Metric'])\n",
    "\n",
    "for r in ['NH','SH']:\n",
    "    for s in ['JJA','DJF']:\n",
    "        tstring=\"Absolute metrics for {:} {:}\".format(r,s)\n",
    "        mk_metrics_plot(metrics_long,r,s,0,0.4,'Spectral',tstring)\n"
   ]
  },
  {
   "cell_type": "code",
   "execution_count": 117,
   "metadata": {},
   "outputs": [
    {
     "data": {
      "text/plain": [
       "<matplotlib.axes._subplots.AxesSubplot at 0x2aaade7784e0>"
      ]
     },
     "execution_count": 117,
     "metadata": {},
     "output_type": "execute_result"
    },
    {
     "data": {
      "image/png": "[encoded data removed]",
      "text/plain": [
       "<Figure size 432x288 with 2 Axes>"
      ]
     },
     "metadata": {
      "needs_background": "light"
     },
     "output_type": "display_data"
    }
   ],
   "source": [
    "metrics_sub=metrics_relative[metrics_relative['Region'].str.match('NH') & metrics_relative['Season'].str.match('JJA')].drop(columns=['Region','Season'],axis=1)\n",
    "colnames=metrics_sub['Metric']\n",
    "metrics_t=metrics_sub[metrics_sub.columns[1:]].T\n",
    "metrics_t.columns=colnames\n",
    "c_metrics=metrics_t.corr()\n",
    "mask = np.zeros_like(c_metrics, dtype=np.bool)\n",
    "mask[np.triu_indices_from(mask)] = True\n",
    "#cmap = sns.diverging_palette(220, 10, as_cmap=True)\n",
    "sns.heatmap(c_metrics, mask=mask, cmap='bwr', center=0,vmin=-1,vmax=1,\n",
    "            square=True, linewidths=.5, cbar_kws={\"shrink\": .5})"
   ]
  },
  {
   "cell_type": "code",
   "execution_count": null,
   "metadata": {},
   "outputs": [],
   "source": [
    "\n"
   ]
  },
  {
   "cell_type": "code",
   "execution_count": null,
   "metadata": {},
   "outputs": [],
   "source": []
  },
  {
   "cell_type": "code",
   "execution_count": null,
   "metadata": {},
   "outputs": [],
   "source": []
  },
  {
   "cell_type": "code",
   "execution_count": 21,
   "metadata": {},
   "outputs": [
    {
     "ename": "NameError",
     "evalue": "name 'corr_calc' is not defined",
     "output_type": "error",
     "traceback": [
      "\u001b[0;31m---------------------------------------------------------------------------\u001b[0m",
      "\u001b[0;31mNameError\u001b[0m                                 Traceback (most recent call last)",
      "\u001b[0;32m<ipython-input-21-8244b66cf78b>\u001b[0m in \u001b[0;36m<module>\u001b[0;34m\u001b[0m\n\u001b[1;32m     20\u001b[0m         \u001b[0mstore_dict\u001b[0m\u001b[0;34m[\u001b[0m\u001b[0;34m'season'\u001b[0m\u001b[0;34m]\u001b[0m\u001b[0;34m=\u001b[0m\u001b[0ms\u001b[0m\u001b[0;34m\u001b[0m\u001b[0;34m\u001b[0m\u001b[0m\n\u001b[1;32m     21\u001b[0m         \u001b[0mstore_dict\u001b[0m\u001b[0;34m[\u001b[0m\u001b[0;34m'var'\u001b[0m\u001b[0;34m]\u001b[0m\u001b[0;34m=\u001b[0m\u001b[0;34m'mean'\u001b[0m\u001b[0;34m\u001b[0m\u001b[0;34m\u001b[0m\u001b[0m\n\u001b[0;32m---> 22\u001b[0;31m         \u001b[0mstore_dict\u001b[0m\u001b[0;34m[\u001b[0m\u001b[0;34m'corr'\u001b[0m\u001b[0;34m]\u001b[0m\u001b[0;34m=\u001b[0m\u001b[0mcorr_calc\u001b[0m\u001b[0;34m(\u001b[0m\u001b[0mbb\u001b[0m\u001b[0;34m,\u001b[0m\u001b[0mtb\u001b[0m\u001b[0;34m,\u001b[0m\u001b[0mdat\u001b[0m\u001b[0;34m,\u001b[0m\u001b[0mrean_v\u001b[0m\u001b[0;34m,\u001b[0m\u001b[0mmm_v\u001b[0m\u001b[0;34m)\u001b[0m\u001b[0;34m[\u001b[0m\u001b[0;36m0\u001b[0m\u001b[0;34m]\u001b[0m\u001b[0;34m\u001b[0m\u001b[0;34m\u001b[0m\u001b[0m\n\u001b[0m\u001b[1;32m     23\u001b[0m         \u001b[0mstore_dict\u001b[0m\u001b[0;34m[\u001b[0m\u001b[0;34m'corr_dist'\u001b[0m\u001b[0;34m]\u001b[0m\u001b[0;34m=\u001b[0m\u001b[0;36m1\u001b[0m\u001b[0;34m-\u001b[0m\u001b[0mabs\u001b[0m\u001b[0;34m(\u001b[0m\u001b[0mstore_dict\u001b[0m\u001b[0;34m[\u001b[0m\u001b[0;34m'corr'\u001b[0m\u001b[0;34m]\u001b[0m\u001b[0;34m)\u001b[0m\u001b[0;34m\u001b[0m\u001b[0;34m\u001b[0m\u001b[0m\n\u001b[1;32m     24\u001b[0m         \u001b[0mstore_dict\u001b[0m\u001b[0;34m[\u001b[0m\u001b[0;34m'nrmse'\u001b[0m\u001b[0;34m]\u001b[0m\u001b[0;34m=\u001b[0m\u001b[0mrmse_region\u001b[0m\u001b[0;34m(\u001b[0m\u001b[0mdat\u001b[0m\u001b[0;34m[\u001b[0m\u001b[0mrean_v\u001b[0m\u001b[0;34m]\u001b[0m\u001b[0;34m,\u001b[0m\u001b[0mdat\u001b[0m\u001b[0;34m[\u001b[0m\u001b[0mmm_v\u001b[0m\u001b[0;34m]\u001b[0m\u001b[0;34m,\u001b[0m\u001b[0mbb\u001b[0m\u001b[0;34m,\u001b[0m\u001b[0mtb\u001b[0m\u001b[0;34m)\u001b[0m\u001b[0;34m\u001b[0m\u001b[0;34m\u001b[0m\u001b[0m\n",
      "\u001b[0;31mNameError\u001b[0m: name 'corr_calc' is not defined"
     ]
    }
   ],
   "source": [
    "compare_table = pd.DataFrame()\n",
    "cols=['region','season','var','corr','nrmse','corr_dist']\n",
    "rean_v=\"reanBlockMean_WGT\"\n",
    "mm_v='modelBlockMean_WGT'\n",
    "\n",
    "for r in ['NH','SH']:\n",
    "    if r=='NH':\n",
    "        tb=75\n",
    "        bb=25\n",
    "    else: \n",
    "        tb=-25\n",
    "        bb=-75\n",
    "    for s in ['JJA','DJF']:\n",
    "        if s=='JJA':\n",
    "            dat=avg_jja\n",
    "        else:\n",
    "            dat=avg_djf\n",
    "        store_dict={}\n",
    "        store_dict['region']=r\n",
    "        store_dict['season']=s\n",
    "        store_dict['var']='mean'\n",
    "        store_dict['corr']=corr_calc(bb,tb,dat,rean_v,mm_v)[0]\n",
    "        store_dict['corr_dist']=1-abs(store_dict['corr'])\n",
    "        store_dict['nrmse']=rmse_region(dat[rean_v],dat[mm_v],bb,tb)\n",
    "        compare_table = compare_table.append(store_dict,ignore_index=True)\n",
    "        for d in dats_mod2:\n",
    "            store_dict['var']=d\n",
    "            mm_d = '{:}_WGT'.format(d)\n",
    "            store_dict['corr']=corr_calc(bb,tb,dat,rean_v,mm_d)[0]\n",
    "            store_dict['corr_dist']=1-abs(store_dict['corr'])\n",
    "            store_dict['nrmse']=rmse_region(dat[rean_v],dat[mm_d],bb,tb)\n",
    "            compare_table=compare_table.append(store_dict,ignore_index=True)\n",
    "compare_table=compare_table[cols]\n"
   ]
  },
  {
   "cell_type": "code",
   "execution_count": null,
   "metadata": {},
   "outputs": [],
   "source": [
    "#So we have the means/sd for both reanalysis and models for each of the distributions\n",
    "#We also have all of the z-scores (with respect to the reanalysis mean)\n",
    "#What would we output for the stoplight diagram?\n",
    "#For now we'll do means for the MMM as well as each model\n",
    "\n",
    "def output_mean_z_scores(input_data,mean_sd,rean_list,mod_list,vlist,vfmt,r,s,outname):\n",
    "    store_frame=pd.DataFrame()\n",
    "\n",
    "    #multi model mean\n",
    "    store_dict={}\n",
    "    knum=len(vlist)+1\n",
    "    klist=[None]*knum\n",
    "    klist[0]='model'\n",
    "    colnames=[None]*knum\n",
    "    colnames[0]='model'\n",
    "\n",
    "    #Get the dictionary with the proper region values\n",
    "    mean_dict=mean_sd['rean_{:}_{:}'.format(r,s)]\n",
    "    \n",
    "    #Multi-reananalysis mean\n",
    "    store_dict['model']='Multi-rean mean'\n",
    "    rean_data=input_data[input_data['model'].str.match('rean')&input_data['region'].str.match(r)&input_data['season'].str.match(s)]\n",
    "    \n",
    "    j=1\n",
    "    for v in vlist:\n",
    "        klist[j]=v\n",
    "        vname=vfmt[j-1]\n",
    "        mval=mean_dict[v]['mean']\n",
    "        colnames[j]='{:}={:.2f}'.format(vname,mval)\n",
    "        x=rean_data[v].mean()\n",
    "        store_dict[v]=x\n",
    "        j+=1   \n",
    "    store_frame=store_frame.append(store_dict,ignore_index=True)\n",
    "\n",
    "    #Now repeat for each of the models\n",
    "    for d in rean_list:\n",
    "        store_dict={}\n",
    "        store_dict['model']=d\n",
    "        model_data=input_data[input_data['var'].str.match(d)&input_data['region'].str.match(r)&input_data['season'].str.match(s)]\n",
    "\n",
    "        for v in vlist:\n",
    "            vname=v\n",
    "            x=model_data[v].mean()\n",
    "            store_dict[vname]=x\n",
    "        store_frame=store_frame.append(store_dict,ignore_index=True)\n",
    "\n",
    "    \n",
    "    #Multi-model mean\n",
    "    store_dict={}\n",
    "    store_dict['model']='Multi-model mean'\n",
    "    model_data=input_data[input_data['model'].str.match('model')&input_data['region'].str.match(r)&input_data['season'].str.match(s)]\n",
    "\n",
    "    for v in vlist:\n",
    "        x=model_data[v].mean()\n",
    "        store_dict[v]=x\n",
    "    store_frame = store_frame.append(store_dict,ignore_index=True)\n",
    "\n",
    "    #Now repeat for each of the models\n",
    "    for d in mod_list:\n",
    "        store_dict={}\n",
    "        store_dict['model']=d\n",
    "\n",
    "        model_data=input_data[input_data['var'].str.match(d)&input_data['region'].str.match(r)&input_data['season'].str.match(s)]\n",
    "\n",
    "        for v in vlist:\n",
    "            vname=v\n",
    "            x=model_data[v].mean()\n",
    "            store_dict[vname]=x\n",
    "        store_frame=store_frame.append(store_dict,ignore_index=True)\n",
    "    store_frame=store_frame[klist]\n",
    "    store_frame.columns=colnames\n",
    "    store_frame.to_csv(outname,index=False)\n",
    "\n"
   ]
  },
  {
   "cell_type": "code",
   "execution_count": null,
   "metadata": {},
   "outputs": [],
   "source": [
    "var_str=['duration_days',\n",
    " 'abs_centlat',\n",
    " 'mean_area',\n",
    " 'zonal_speed_km',\n",
    " 'mean_AI',\n",
    " 'mean_BI']\n",
    "var_fmt=['BD','CL','BA','BS','AI','BI']\n",
    "\n",
    "for r in ['NH','SH']:\n",
    "    for s in ['DJF','JJA']:\n",
    "        sname='~/model_mean_diff_{:}_{:}.csv'.format(r,s)\n",
    "        output_mean_z_scores(norm_all,norm_vals,dats_mod,dats_mod2,var_str,var_fmt,r,s,sname)\n",
    "\n"
   ]
  },
  {
   "cell_type": "code",
   "execution_count": null,
   "metadata": {},
   "outputs": [],
   "source": [
    "#Stats for reanalysis data\n",
    "norm_rean = norm_all[norm_all['model'].str.match('rean')]\n",
    "summ_rean = all_all[all_all['model'].str.match('rean')]\n",
    "#for r in ['NH','SH']:\n",
    "#    for s in ['JJA','DJF']:\n",
    "#       for v in var_str:\n",
    "#            var_sel = norm_rean[norm_rean['region'].str.match(r) & norm_rean['season'].str.match(s)][['var',v]]\n",
    "#            x=[var_sel[var_sel[\"var\"]==d][v] for d in dats_mod]\n",
    " #           print(\"results for {:} {:}, {:}\".format(r,s,v))\n",
    " #           print(kruskal(*x))\n",
    "\n",
    "for r in ['NH','SH']:\n",
    "    for s in ['JJA','DJF']:\n",
    "        for v in var_str:\n",
    "            var_sel = summ_rean[summ_rean['region'].str.match(r) & summ_rean['season'].str.match(s)][['var',v]]\n",
    "            x=[var_sel[var_sel['var']==d][v] for d in dats_mod]\n",
    "            k=kruskal(*x)\n",
    "            if k.pvalue<0.8:\n",
    "                print(\"result for {:} ({:} {:}) is {:}\".format(v,r,s,k))\n"
   ]
  },
  {
   "cell_type": "code",
   "execution_count": null,
   "metadata": {},
   "outputs": [],
   "source": [
    "norm_melt = norm_all.melt(id_vars=['var','region','season','model'])\n",
    "norm_rean = norm_melt[norm_melt['model'].str.match('rean')]\n",
    "norm_mod = norm_melt[norm_melt['model'].str.match('model')]\n",
    "\n",
    "\n",
    "#Make a facet plot of the reanalysis values\n",
    "for r in ['NH','SH']:\n",
    "    for s in ['JJA','DJF']:\n",
    "        norm_sub=norm_rean[norm_rean['region'].str.match(r) & norm_rean['season'].str.match(s)]\n",
    "        g=sns.catplot(data=norm_sub,col='variable',x='var',y='value',kind='box',col_wrap=3)\n",
    "        plt.subplots_adjust(top=0.9)\n",
    "        g.fig.suptitle(\"{:} {:}\".format(r,s))"
   ]
  },
  {
   "cell_type": "code",
   "execution_count": null,
   "metadata": {},
   "outputs": [],
   "source": [
    "# #Mean/sd of each?\n",
    "# norm_vals[['region','season','duration_days']]\n",
    "# norm_copy = norm_vals\n",
    "# for v in var_str:\n",
    "#     norm_copy=pd.concat([norm_copy.drop([v],axis=1),norm_copy[v].apply(pd.Series)],axis=1)\n",
    "# cols_old = norm_copy.columns\n",
    "# print(cols_old)\n"
   ]
  },
  {
   "cell_type": "code",
   "execution_count": null,
   "metadata": {},
   "outputs": [],
   "source": [
    "# for r in ['NH','SH']:\n",
    "#     for s in ['JJA','DJF']:\n",
    "#         norm_sub = norm_melt[norm_melt['region'].str.match(r) & norm_melt['season'].str.match(s)]\n",
    "#         sns.catplot(data=norm_sub,col='variable',x='var',y='value',kind='box',hue='model')\n",
    "# #sns.catplot(data=norm_melt,col='season',row='region',kind='box',x='variable',y='value',hue='model')\n",
    "# #plt.legend(bbox_to_anchor=(1.05,1),loc=2,borderaxespad=0)"
   ]
  },
  {
   "cell_type": "code",
   "execution_count": null,
   "metadata": {},
   "outputs": [],
   "source": [
    "# #Let's try some PCA shit\n",
    "# pca = PCA(n_components=2)\n",
    "# #Try training on reanalysis data\n",
    "# data_train = norm_all[norm_all['model'].str.match('rean')][var_str]\n",
    "# pca.fit(data_train)\n",
    "# data_transform = pca.transform(data_train)\n",
    "# data_test = norm_all[norm_all['model'].str.match('model')][var_str]\n",
    "# data_transform_test = pca.transform(data_test)\n"
   ]
  },
  {
   "cell_type": "code",
   "execution_count": null,
   "metadata": {},
   "outputs": [],
   "source": [
    "# print(pca.explained_variance_ratio_)\n",
    "# print(pd.DataFrame(pca.components_,columns=var_str))"
   ]
  },
  {
   "cell_type": "code",
   "execution_count": null,
   "metadata": {},
   "outputs": [],
   "source": []
  }
 ],
 "metadata": {
  "kernelspec": {
   "display_name": "kernel_test",
   "language": "python",
   "name": "jupyter_kernel"
  },
  "language_info": {
   "codemirror_mode": {
    "name": "ipython",
    "version": 3
   },
   "file_extension": ".py",
   "mimetype": "text/x-python",
   "name": "python",
   "nbconvert_exporter": "python",
   "pygments_lexer": "ipython3",
   "version": "3.6.8"
  }
 },
 "nbformat": 4,
 "nbformat_minor": 4
}
